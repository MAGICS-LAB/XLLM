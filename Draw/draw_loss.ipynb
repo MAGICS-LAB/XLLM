{
 "cells": [
  {
   "cell_type": "code",
   "execution_count": 1,
   "metadata": {},
   "outputs": [
    {
     "name": "stdout",
     "output_type": "stream",
     "text": [
      "Length of GCG losses:  128\n",
      "Mean GCG loss:  2.2353248596191406\n",
      "Mean EOS loss:  1.2957420349121094\n"
     ]
    }
   ],
   "source": [
    "import pandas as pd\n",
    "import matplotlib.pyplot as plt\n",
    "import os\n",
    "import argparse\n",
    "\n",
    "def read_data(folder):\n",
    "    losses = []\n",
    "    for file in os.listdir(folder):\n",
    "        if file.endswith('.log'):\n",
    "            with open(os.path.join(folder, file), 'r') as f:\n",
    "                lines = f.readlines()\n",
    "                for line in lines:\n",
    "                    if line.startswith('init loss:'):\n",
    "                        # init loss: 1.259765625\n",
    "                        loss = float(line.split()[-1])\n",
    "                        losses.append(loss)\n",
    "                        break\n",
    "    return losses\n",
    "\n",
    "GCG_losses = read_data('/home/jys3649/projects/LLM_MMR/Logs/google/gemma-2b-it/GCG')\n",
    "EOS_losses = read_data('/home/jys3649/projects/LLM_MMR/Logs/google/gemma-2b-it/GCG_eos')\n",
    "print(\"Length of GCG losses: \", len(GCG_losses))\n",
    "print(\"Mean GCG loss: \", sum(GCG_losses) / len(GCG_losses))\n",
    "print(\"Mean EOS loss: \", sum(EOS_losses) / len(EOS_losses))"
   ]
  },
  {
   "cell_type": "code",
   "execution_count": null,
   "metadata": {},
   "outputs": [],
   "source": []
  }
 ],
 "metadata": {
  "kernelspec": {
   "display_name": "xllm",
   "language": "python",
   "name": "python3"
  },
  "language_info": {
   "codemirror_mode": {
    "name": "ipython",
    "version": 3
   },
   "file_extension": ".py",
   "mimetype": "text/x-python",
   "name": "python",
   "nbconvert_exporter": "python",
   "pygments_lexer": "ipython3",
   "version": "3.10.13"
  }
 },
 "nbformat": 4,
 "nbformat_minor": 2
}
